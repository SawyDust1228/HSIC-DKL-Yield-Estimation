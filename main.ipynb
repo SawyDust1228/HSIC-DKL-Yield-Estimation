{
 "cells": [
  {
   "cell_type": "code",
   "execution_count": 71,
   "metadata": {},
   "outputs": [],
   "source": [
    "import numpy as np\n",
    "import torch\n",
    "import pandas as pd\n",
    "from models.Model import MyGP\n",
    "from models.Functions import sort, getAnswer, get_yield\n",
    "from models.AdaptiveSampling import AdaptiveSampling\n",
    "from models.FeatureSelection import FeatureSelection"
   ]
  },
  {
   "cell_type": "code",
   "execution_count": 72,
   "metadata": {},
   "outputs": [
    {
     "name": "stdout",
     "output_type": "stream",
     "text": [
      "The autoreload extension is already loaded. To reload it, use:\n",
      "  %reload_ext autoreload\n"
     ]
    }
   ],
   "source": [
    "# Some more magic so that the notebook will reload external python modules;\n",
    "# see http://stackoverflow.com/questions/1907993/autoreload-of-modules-in-ipython\n",
    "%load_ext autoreload\n",
    "%autoreload 2"
   ]
  },
  {
   "cell_type": "code",
   "execution_count": 73,
   "metadata": {},
   "outputs": [],
   "source": [
    "device = torch.device(\"cuda\" if torch.cuda.is_available() else \"cpu\")"
   ]
  },
  {
   "cell_type": "code",
   "execution_count": 74,
   "metadata": {},
   "outputs": [
    {
     "data": {
      "text/plain": [
       "<torch._C.Generator at 0x7f7d51feeab0>"
      ]
     },
     "execution_count": 74,
     "metadata": {},
     "output_type": "execute_result"
    }
   ],
   "source": [
    "seed = 123456789\n",
    "torch.manual_seed(seed=seed)"
   ]
  },
  {
   "cell_type": "code",
   "execution_count": 75,
   "metadata": {},
   "outputs": [],
   "source": [
    "initial_num_train = 500"
   ]
  },
  {
   "cell_type": "code",
   "execution_count": 76,
   "metadata": {},
   "outputs": [],
   "source": [
    "filePath = \"benchmark/data.csv\""
   ]
  },
  {
   "cell_type": "code",
   "execution_count": 77,
   "metadata": {},
   "outputs": [],
   "source": [
    "df = pd.read_csv(filePath)\n",
    "data_dim = 12\n",
    "total_num = 100000\n",
    "data = np.array(df)\n",
    "data = data[:,:data_dim + 1]\n",
    "test_x_origin = data[:total_num, 1:]\n",
    "test_y_origin = data[:total_num, 0]"
   ]
  },
  {
   "cell_type": "code",
   "execution_count": 78,
   "metadata": {},
   "outputs": [],
   "source": [
    "data_dim_out = 2"
   ]
  },
  {
   "cell_type": "code",
   "execution_count": 79,
   "metadata": {},
   "outputs": [],
   "source": [
    "train_x = test_x_origin[:initial_num_train, :]\n",
    "train_y = test_y_origin[:initial_num_train]\n",
    "\n",
    "train_x =torch.tensor(train_x, dtype=torch.float32)\n",
    "train_y =torch.tensor(train_y, dtype=torch.float32)\n",
    "\n",
    "test_x = torch.tensor(test_x_origin, dtype=torch.float32)\n",
    "test_y = torch.tensor(test_y_origin, dtype=torch.float32)"
   ]
  },
  {
   "cell_type": "code",
   "execution_count": 80,
   "metadata": {},
   "outputs": [],
   "source": [
    "answer = sort(test_y, 50)\n",
    "threshold = test_y[answer[50 - 1]]"
   ]
  },
  {
   "cell_type": "code",
   "execution_count": 81,
   "metadata": {},
   "outputs": [
    {
     "data": {
      "text/plain": [
       "tensor(4.1429)"
      ]
     },
     "execution_count": 81,
     "metadata": {},
     "output_type": "execute_result"
    }
   ],
   "source": [
    "threshold"
   ]
  },
  {
   "cell_type": "code",
   "execution_count": 82,
   "metadata": {},
   "outputs": [
    {
     "name": "stdout",
     "output_type": "stream",
     "text": [
      "Block HSIC Lasso B = 20.\n",
      "M set to 3.\n",
      "Using Gaussian kernel for the features, Gaussian kernel for the outcomes.\n",
      "[SELECT DIM] : 8\n"
     ]
    }
   ],
   "source": [
    "featureSelector = FeatureSelection()\n",
    "featureSelector.fit(train_x.numpy(), train_y.numpy(), num = 8)\n",
    "select_dim = featureSelector.get_dim()\n",
    "mask = featureSelector.get_mask()\n",
    "print(f\"[SELECT DIM] : {select_dim}\")"
   ]
  },
  {
   "cell_type": "code",
   "execution_count": 83,
   "metadata": {},
   "outputs": [
    {
     "name": "stdout",
     "output_type": "stream",
     "text": [
      "[Real Yield]: 0.9995\n"
     ]
    }
   ],
   "source": [
    "yield_mc = get_yield(test_y, threshold)\n",
    "print(f\"[Real Yield]: {yield_mc}\")"
   ]
  },
  {
   "cell_type": "code",
   "execution_count": 84,
   "metadata": {},
   "outputs": [
    {
     "name": "stderr",
     "output_type": "stream",
     "text": [
      "100%|██████████| 50/50 [00:00<00:00, 78.33it/s]\n"
     ]
    }
   ],
   "source": [
    "model = MyGP(train_x[:, mask], train_y, data_dim=select_dim, data_dim_out=data_dim_out, training_iterations=50)\n",
    "model.train()\n",
    "pred_y, _ = model.test(test_x=test_x[:, mask])"
   ]
  },
  {
   "cell_type": "code",
   "execution_count": 85,
   "metadata": {},
   "outputs": [],
   "source": [
    "yield_result = []\n",
    "id_list = []"
   ]
  },
  {
   "cell_type": "code",
   "execution_count": 86,
   "metadata": {},
   "outputs": [
    {
     "name": "stdout",
     "output_type": "stream",
     "text": [
      "[Yield]: 1.0\n"
     ]
    }
   ],
   "source": [
    "yield_gp = get_yield(pred_y, threshold)\n",
    "yield_result.append(yield_gp)\n",
    "print(f\"[Yield]: {yield_gp}\")"
   ]
  },
  {
   "cell_type": "code",
   "execution_count": 87,
   "metadata": {},
   "outputs": [
    {
     "name": "stdout",
     "output_type": "stream",
     "text": [
      "[EPOCH] : 1\n",
      "initial finished\n"
     ]
    },
    {
     "name": "stderr",
     "output_type": "stream",
     "text": [
      "100%|██████████| 50/50 [00:00<00:00, 122.10it/s]\n"
     ]
    },
    {
     "name": "stdout",
     "output_type": "stream",
     "text": [
      "[Yield]: 0.9997\n",
      "[EPOCH] : 2\n",
      "initial finished\n"
     ]
    },
    {
     "name": "stderr",
     "output_type": "stream",
     "text": [
      "100%|██████████| 50/50 [00:00<00:00, 119.27it/s]\n"
     ]
    },
    {
     "name": "stdout",
     "output_type": "stream",
     "text": [
      "[Yield]: 0.99957\n",
      "[EPOCH] : 3\n",
      "initial finished\n"
     ]
    },
    {
     "name": "stderr",
     "output_type": "stream",
     "text": [
      "100%|██████████| 50/50 [00:00<00:00, 120.77it/s]\n"
     ]
    },
    {
     "name": "stdout",
     "output_type": "stream",
     "text": [
      "[Yield]: 0.99959\n",
      "[EPOCH] : 4\n",
      "initial finished\n"
     ]
    },
    {
     "name": "stderr",
     "output_type": "stream",
     "text": [
      "100%|██████████| 50/50 [00:00<00:00, 84.87it/s]\n"
     ]
    },
    {
     "name": "stdout",
     "output_type": "stream",
     "text": [
      "[Yield]: 0.99957\n",
      "[EPOCH] : 5\n",
      "initial finished\n"
     ]
    },
    {
     "name": "stderr",
     "output_type": "stream",
     "text": [
      "100%|██████████| 50/50 [00:00<00:00, 77.94it/s]\n"
     ]
    },
    {
     "name": "stdout",
     "output_type": "stream",
     "text": [
      "[Yield]: 0.99959\n",
      "[EPOCH] : 6\n",
      "initial finished\n"
     ]
    },
    {
     "name": "stderr",
     "output_type": "stream",
     "text": [
      "100%|██████████| 50/50 [00:00<00:00, 88.72it/s]\n"
     ]
    },
    {
     "name": "stdout",
     "output_type": "stream",
     "text": [
      "[Yield]: 0.99953\n",
      "[EPOCH] : 7\n",
      "initial finished\n"
     ]
    },
    {
     "name": "stderr",
     "output_type": "stream",
     "text": [
      "100%|██████████| 50/50 [00:01<00:00, 43.69it/s]\n"
     ]
    },
    {
     "name": "stdout",
     "output_type": "stream",
     "text": [
      "[Yield]: 0.99954\n",
      "[EPOCH] : 8\n",
      "initial finished\n"
     ]
    },
    {
     "name": "stderr",
     "output_type": "stream",
     "text": [
      "100%|██████████| 50/50 [00:01<00:00, 42.46it/s]\n"
     ]
    },
    {
     "name": "stdout",
     "output_type": "stream",
     "text": [
      "[Yield]: 0.99959\n",
      "[EPOCH] : 9\n",
      "initial finished\n"
     ]
    },
    {
     "name": "stderr",
     "output_type": "stream",
     "text": [
      "100%|██████████| 50/50 [00:01<00:00, 46.63it/s]\n"
     ]
    },
    {
     "name": "stdout",
     "output_type": "stream",
     "text": [
      "[Yield]: 0.99957\n",
      "[EPOCH] : 10\n",
      "initial finished\n"
     ]
    },
    {
     "name": "stderr",
     "output_type": "stream",
     "text": [
      "100%|██████████| 50/50 [00:01<00:00, 45.62it/s]\n"
     ]
    },
    {
     "name": "stdout",
     "output_type": "stream",
     "text": [
      "[Yield]: 0.99952\n",
      "[EPOCH] : 11\n",
      "initial finished\n"
     ]
    },
    {
     "name": "stderr",
     "output_type": "stream",
     "text": [
      "100%|██████████| 50/50 [00:01<00:00, 45.11it/s]\n"
     ]
    },
    {
     "name": "stdout",
     "output_type": "stream",
     "text": [
      "[Yield]: 0.99956\n",
      "[EPOCH] : 12\n",
      "initial finished\n"
     ]
    },
    {
     "name": "stderr",
     "output_type": "stream",
     "text": [
      "100%|██████████| 50/50 [00:01<00:00, 45.54it/s]\n"
     ]
    },
    {
     "name": "stdout",
     "output_type": "stream",
     "text": [
      "[Yield]: 0.99955\n",
      "[EPOCH] : 13\n",
      "initial finished\n"
     ]
    },
    {
     "name": "stderr",
     "output_type": "stream",
     "text": [
      "100%|██████████| 50/50 [00:01<00:00, 35.19it/s]\n"
     ]
    },
    {
     "name": "stdout",
     "output_type": "stream",
     "text": [
      "[Yield]: 0.99955\n",
      "[EPOCH] : 14\n",
      "initial finished\n"
     ]
    },
    {
     "name": "stderr",
     "output_type": "stream",
     "text": [
      "100%|██████████| 50/50 [00:01<00:00, 46.11it/s]\n"
     ]
    },
    {
     "name": "stdout",
     "output_type": "stream",
     "text": [
      "[Yield]: 0.99949\n",
      "[EPOCH] : 15\n",
      "initial finished\n"
     ]
    },
    {
     "name": "stderr",
     "output_type": "stream",
     "text": [
      "100%|██████████| 50/50 [00:01<00:00, 38.59it/s]\n"
     ]
    },
    {
     "name": "stdout",
     "output_type": "stream",
     "text": [
      "[Yield]: 0.99952\n",
      "[EPOCH] : 16\n",
      "initial finished\n"
     ]
    },
    {
     "name": "stderr",
     "output_type": "stream",
     "text": [
      "100%|██████████| 50/50 [00:01<00:00, 44.96it/s]\n"
     ]
    },
    {
     "name": "stdout",
     "output_type": "stream",
     "text": [
      "[Yield]: 0.99952\n",
      "[EPOCH] : 17\n",
      "initial finished\n"
     ]
    },
    {
     "name": "stderr",
     "output_type": "stream",
     "text": [
      "100%|██████████| 50/50 [00:01<00:00, 43.93it/s]\n"
     ]
    },
    {
     "name": "stdout",
     "output_type": "stream",
     "text": [
      "[Yield]: 0.99947\n",
      "[EPOCH] : 18\n",
      "initial finished\n"
     ]
    },
    {
     "name": "stderr",
     "output_type": "stream",
     "text": [
      "100%|██████████| 50/50 [00:01<00:00, 45.14it/s]\n"
     ]
    },
    {
     "name": "stdout",
     "output_type": "stream",
     "text": [
      "[Yield]: 0.9995\n",
      "[EPOCH] : 19\n",
      "initial finished\n"
     ]
    },
    {
     "name": "stderr",
     "output_type": "stream",
     "text": [
      "100%|██████████| 50/50 [00:01<00:00, 42.66it/s]\n"
     ]
    },
    {
     "name": "stdout",
     "output_type": "stream",
     "text": [
      "[Yield]: 0.99953\n",
      "[EPOCH] : 20\n",
      "initial finished\n"
     ]
    },
    {
     "name": "stderr",
     "output_type": "stream",
     "text": [
      "100%|██████████| 50/50 [00:01<00:00, 44.04it/s]\n"
     ]
    },
    {
     "name": "stdout",
     "output_type": "stream",
     "text": [
      "[Yield]: 0.99955\n"
     ]
    }
   ],
   "source": [
    "epoch = 20\n",
    "bias = 2500\n",
    "N = 50\n",
    "for i in range(epoch):\n",
    "    print(f\"[EPOCH] : {i + 1}\")\n",
    "    start = initial_num_train + i * bias\n",
    "    end = start + bias\n",
    "    adaptiveSampling = AdaptiveSampling(model=model, mask=mask, train_x=test_x[start:end,:], N=N, threshold=threshold)\n",
    "    x_new, indeces, entropy = adaptiveSampling.get_initial_set()\n",
    "    indeces += start\n",
    "    y_new = test_y[indeces]\n",
    "    train_x = torch.vstack([train_x, x_new])\n",
    "    train_y = torch.hstack([train_y, y_new])\n",
    "    model = MyGP(train_x[:,mask], train_y, data_dim=select_dim, data_dim_out=data_dim_out, training_iterations=50)\n",
    "    model.train()\n",
    "    pred_y, _ = model.test(test_x=test_x[:, mask])\n",
    "    yield_gp = get_yield(pred_y, threshold)\n",
    "    print(f\"[Yield]: {yield_gp}\")\n",
    "    yield_result.append(yield_gp)\n",
    "    "
   ]
  },
  {
   "cell_type": "code",
   "execution_count": 90,
   "metadata": {},
   "outputs": [
    {
     "data": {
      "image/png": "[encoded data removed]",
      "text/plain": [
       "<Figure size 432x288 with 1 Axes>"
      ]
     },
     "metadata": {
      "needs_background": "light"
     },
     "output_type": "display_data"
    }
   ],
   "source": [
    "import matplotlib.pyplot as plt\n",
    "\n",
    "x = list(range(1, len(yield_result) + 1))\n",
    "\n",
    "plt.scatter(x, yield_result, c=\"r\")\n",
    "plt.plot(x, yield_result, 'r')\n",
    "plt.plot(x, [yield_mc for i in range(len(x))], 'b--')\n",
    "plt.legend([\n",
    "    \"Yield Result\",\n",
    "    \"Yield Line\"\n",
    "    \"True Yield\"\n",
    "])\n",
    "plt.xlabel(\"Epoch\")\n",
    "plt.ylabel(\"Yield\")\n",
    "plt.show()"
   ]
  }
 ],
 "metadata": {
  "interpreter": {
   "hash": "6b3d7e54a6316f23691e033de03ff3a261b42999886f93f9005126b9a956d4e5"
  },
  "kernelspec": {
   "display_name": "Python 3.7.12 ('torch')",
   "language": "python",
   "name": "python3"
  },
  "language_info": {
   "codemirror_mode": {
    "name": "ipython",
    "version": 3
   },
   "file_extension": ".py",
   "mimetype": "text/x-python",
   "name": "python",
   "nbconvert_exporter": "python",
   "pygments_lexer": "ipython3",
   "version": "3.7.12"
  },
  "orig_nbformat": 4
 },
 "nbformat": 4,
 "nbformat_minor": 2
}
